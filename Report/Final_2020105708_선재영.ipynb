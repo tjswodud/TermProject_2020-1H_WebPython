{
 "cells": [
  {
   "cell_type": "markdown",
   "metadata": {},
   "source": [
    "# Naver Blog API와 웹 크롤링을 이용한 제품 추천 서비스 제작"
   ]
  },
  {
   "cell_type": "markdown",
   "metadata": {},
   "source": [
    "### 2020105708 선재영 (소프트웨어융합학과)"
   ]
  },
  {
   "cell_type": "markdown",
   "metadata": {},
   "source": [
    "1. 프로젝트 목표 및 내용 : 본 프로젝트를 통해 제작하고자 하는 프로그램은 <strong>‘사용 후기를 통한 제품 추천 프로그램’</strong>이다.<br><br>사용자가 찾고 싶은 제품에 대한 키워드를 입력(ex. 게이밍 마우스)하면, 해당 키워드에 대한 후기를 Blog 게시물의 title 형태로 크롤링한다. (Naver Blog API 활용) 그 후 크롤링한 결과를 게시물의 제목들을 보여주며, 사용자는 제시된 후기 중 원하는 후기에 대한 블로그에 접속하여 제품의 후기를 살펴본다. 후기를 읽고 프로그램에 돌아오면 몇 번의 반복 절차와 함께 구체적인 제품명을 선택하게 된다. 사용자가 제품명을 선택하면, 해당 제품을 구입하기 위해 Naver Shopping 페이지로 이동하게 되며, 프로그램은 종료된다.<br><br>최종적으로, 위 방법으로 후기 -> 구체적인 제품의 기능 순으로 다양한 제품을 살펴본 사용자가 더욱 원활한 인터넷 쇼핑을 할 수 있도록 돕는 것이 본 프로젝트의 목표이다."
   ]
  },
  {
   "cell_type": "markdown",
   "metadata": {},
   "source": [
    "2. 주제 선정 이유 또는 이 프로젝트의 필요성 : 본 프로젝트를 기획하게 된 이유는 구체적인 제품 정보보다는 직접 제품을 사용한 후기를 통해 제품을 선택함으로써 제품 구입까지 이르는 과정을 편하게 하고 다양한 제품의 후기들을 통해 선택의 폭을 넓히기 위해서이다.<br>![](images/coupang1.png)<br>위 사진은 쇼핑 사이트 중 하나인 \"쿠팡\"의 사진이다. 다른 사이트와 마찬가지로 검색어를 입력하면 해당 제품의 목록이 나열되는 구조이다.<br>이 상황에서 다음과 같이 경우를 가정한다.<br>먼저, 사고자 하는 제품이 명확하게 정해지지 않고, 대략적인 Category 정도가 정해진 경우이다. 이 경우 일반적인 쇼핑 사이트에서의 쇼핑 순서를 따져보면, <strong>사고자 하는 제품의 큰 Category 파악(ex. 게이밍 마우스 -> 마우스) > 구체적인 Category 파악(ex. 게이밍 마우스, 유무선 여부, 브랜드 등) > 검색 > 하나하나씩 제품 탐색, 구체적 제품에 접근 > 제품에 대한 기능적, 객관적 정보 확인 (ex. 안정적인 2.4Hz 무선 연결) > (해당 제품에 관심이 있다면) 후기 확인 (보통 후기는 제품 설명보다 아래쪽에 위치해 있다.) > 구입 결정</strong> 순으로 진행된다. 이때 사고자 하는 제품이 뚜렷하게 정해지지 않았다면, 각 제품의 설명을 일일이 읽어봐야 하며 때에 따라서는 정말 필요한 제품을 놓치고 쇼핑을 마치는 경우도 생길 수 있다.<br>특히 사고자 하는 제품이 무엇인지 정해지지 않았고 고민되는 상황이라면 정확한 Category로 제품을 탐색하고, 기능적인 측면에서 제품을 고르는 것이 쉽지 않기 때문에 이 순서로는 원활한 쇼핑을 진행하기 힘들다. 이 부분에서 본 프로젝트가 필요하다고 생각한다.<br>첫째, 위 과정을 통해 몇 가지 제품을 골랐지만 최종 선택에서 고민하는 경우, 본 프로그램을 통해 다른 사람들이 해당 제품을 어떻게 사용했는지에 대한 다양한 후기를 보면서 각 제품 간의 차이를 파악하고, 이를 제품을 직접 사용할 자신에게 적용하면서 선택에 도움을 줄 수 있을 것이라 생각한다. <br>둘째, 제품에 대한 사전 정보가 없거나 부족한 사람의 경우에는 제품의 후기를 먼저 보게 됨으로써 간략한 정보를 얻을 수 있을 것이며, 얻은 정보를 토대로 제품을 고르는 기준이 많아지면서 제품 선택에 도움이 될 것이라 생각한다.<br><br>또한, 일반적인 쇼핑 절차와 본 프로그램을 통한 절차의 차이에 따른 쇼핑 효율 증진에 대해 생각해 보았다. 일반적인 쇼핑의 경우에는 제품이 다양한 Category로 나누어져 있으며 정렬 또한 사용자의 편의에 따라 추천순, 별점순 등으로 나누어져 있다는 것이 장점이지만, 이는 어느 정도 사고자 하는 제품에 대한 윤곽이 잡혔거나, 제품에 대한 사전 정보가 많을 때의 이야기이다. 이 때문에 <strong>제품 선택 > 후기 확인 > 구입 결정</strong>의 시스템은 위의 경우로 보았을 때 상대적으로 선택의 폭이 좁은 편이다. 하지만 필자가 구현하고자 하는 프로그램의 알고리즘 (<strong>후기 확인 > 후기를 통한 정보 습득 > 구체적인 제품 선택 > 구입 결정</strong>)은 일반 쇼핑의 경우처럼 제품의 기준, Category를 정한 후에 그에 따른 정보를 확인하는 것이 아니기 때문에 선택의 폭을 넓힐 수 있다는 장점이 있을 것으로 예상된다.<br><br>결론적으로, 본 프로그램은 기존 쇼핑 시스템의 순서를 바꾸면서 접근 범위를 변화시키며(Big > Small), 제품 선택의 폭을 넓히고 다양한 제품 탐색을 통해 원활한 쇼핑을 가능하게 해 줄 수 있다는 이유로 유용한 프로그램이 될 것이라 생각한다."
   ]
  },
  {
   "cell_type": "markdown",
   "metadata": {},
   "source": [
    "3. 데이터 획득 : 계획서와 중간 보고서에 적었던 것에서 약간의 변화가 생겼다.<br>기존에 이용하려 했던 Naver Shopping API와 오타 변환 API를 사용하지 않고, 새로운 방식으로 데이터를 얻었다. 먼저, 따로 오타 변환 API를 사용하지 않고도 Naver Blog API 자체 기능에 오타 수정 기능이 포함되어 있었기 때문에 오타 변환 API는 적용하지 않았다. 다음으로, Naver Shopping API를 이용하여 프로그램 내에서 제품의 정보를 User에게 보여주려 했으나, 그보다는 더 많은 정보가 포함된 Naver Shopping 사이트에 연결하는 것이 적합하다고 판단되어 Naver Shopping API를 이용하지 않고, 웹페이지 연결 구현으로 대체했다.<br>첫째, Naver Blog API를 이용하여 사용자가 입력한 제품에 대한 블로그 후기 목록을 추출했다. urllib.request 모듈을 import하여 API에 url 형태로 request한 뒤, response 변수로 받아 분석 및 가공을 진행했다. 이에 대한 내용은 4번에서 설명한다. 또한, webbrowser 모듈을 import함으로써 url을 통해 해당 웹페이지에 접근할 수 있도록 하였고, 이를 사용자가 고른 제품을 대입하여 연결할 수 있도록 구현했다."
   ]
  },
  {
   "attachments": {},
   "cell_type": "markdown",
   "metadata": {},
   "source": [
    "4. 구현 내용<br>중간 보고서 작성 이후에 변화된 내용을 위주로 작성할 것이다.<br><br>1. 변화된 내용 : 제일 큰 변화는 GUI 프로그래밍 구현 중지이다. 본래 tkinter를 활용한 GUI 프로그래밍을 활용하여 수집한 정보들을 사용자가 보기 쉽게 하려고 했지만, 시간 문제와 여러 에러들로 인해 이를 사용하지 않기로 결정했다. 첫째, tkinter를 제대로 활용하기 위해서는 많은 시간을 들여 하나하나씩 tkinter 모듈에 대해 공부해야 하는데, 프로젝트 기한 안에 이를 마치지 못할 것 같았다. 둘째, Button List 측면에서 많은 오류가 발생했다. 이전까지 구현한 내용에 따르면 각각의 블로그 목록을 Button들로 만들어 사용자가 클릭하면 해당 url로 이동하도록 구현할 목적이었다. 하지만 반복문 사용 오류로 인해 Button에 연결된 url의 값이 모두 마지막 url로 고정되어 이를 활용할 수 없는 상태가 되었다. 따라서 GUI 프로그래밍을 포기하고 기능적 구현에 초점을 두기로 했다.<br><br>2. 데이터 분석 및 가공 : 위 3번에서 기술한 것처럼 Naver 블로그 게시물의 형태로 데이터를 수집했으며, 이를 가공하여 사용자에게 필요한 정보만 노출시키도록 구현했다. 먼저, 본 프로젝트를 위해 짜여진 파일은 총 3가지이다. Naver Blog API를 이용하고 이를 통해 블로그 정보를 수집하기 위한 recommend.py, 사용자가 고른 제품을 토대로 쇼핑 사이트와 연결하는 shopping.py, 그리고 앞선 두 파일을 하나로 묶는 termProject.py가 있다."
   ]
  },
  {
   "cell_type": "markdown",
   "metadata": {},
   "source": [
    "2-1. recommend.py : 앞서 만든 코드를 class Recommend로 묶어 관리가 용이하도록 하였다. 먼저, class 내부에 showUrl을 만들었다. 그 후 사용자가 입력하게 될 self.searchWord에 문자열 결합으로 '사용 후기'를 추가하여 API에 request할 newSearchWord 변수를 만들고, urllib.parse.quote(newSearchWord)로 실제 url에 들어갈 코드로 변환하고, 이를 encText로 지정하였다. 이후 naver blog API url주소와 encText를 결합하여 url주소를 만들고, 이를 request 값으로 보냈다. 이에 대한 응답으로 response 변수를 받았으며, urlopen 메소드와 getcode 메소드를 이용하여 url 내의 정보를 획득, 수집하였다. 그러나 해당 response 정보에는 필요로 하는 블로그 title과 url에 대한 정보뿐만이 아니라 display, item, description과 같이 관련 없는 정보들까지 포함되어 있었기에 정보를 다듬을 필요가 있다고 생각하였다. 이에 따라 정보 가공 과정을 진행했다.<br>먼저, 블로그 후기의 제목과 관련된 title 정보만을 추출했다. startswith 메소드를 활용하여 title로 시작되는 정보만 취급하도록 구현했으며, 정규표현식(re)의 sub 메소드를 활용하여 태그(<>), 따옴표와 같이 불필요한 부분을 없애고 최종적으로 블로그 제목만 노출되도록 설정했다. 가공된 정보를 노출시킴과 동시에 빈 리스트 titleList에 append했다. 이후 동일한 과정을 link 정보에도 적용하여 해당 블로그 url 정보만을 linkList에 append하는 방식으로 진행했다.<br>![](images/termProject_execute1.png)<br>위 사진은 지금까지 기술한 내용에 해당하는 실행 결과창을 캡처한 것이다. 크롤링을 통해 뽑아낸 블로그 후기 제목을 print하고, 바로 밑줄에 번호를 추가함으로써 이후 기술할 내용에 따라 사용자가 번호를 입력할 수 있도록 구현했다.<br><br>다음으로, 사용자가 후기를 한 번 이상 볼 경우를 대비하여 선택지와 내용 반복을 구현했다. 앞서 구현한 내용에 따라 블로그 후기 각각에 번호를 매겼고, 사용자로 하여금 블로그 번호를 입력받도록 구현하였다. 그 결과 사용자가 블로그 번호(1~10)을 입력하면, 해당 번호를 index로 지정하여 linkList로 접근한다. 이때 webbrowser 모듈의 open 메소드를 활용하여 linkList에 포함된 url에 접속한다. 사용자가 후기를 본 뒤 프로그램으로 돌아오면, '다른 후기도 보시겠습니까?'에 대한 y / n의 선택지를 제공한다. 이때 while문을 사용하여 사용자가 n을 선택하지 않는 이상 계속해서 위 내용을 반복하도록 구현하였다. 비로소 사용자가 n을 선택하면, 검색 종료와 함께 recommend.py의 알고리즘이 종료된다.<br>![](images/termProject_execute2.png)<br>위 사진은 사용자가 선택한 번호에 따라 해당 블로그에 접속되는 것을 캡처한 것이다. 또한 '다른 후기도 보시겠습니까?'에 대해 y를 선택하면, url 접속이 한번 더 이루어지고, n을 선택하면 검색을 종료하는 모습을 볼 수 있다.<br>이에 대한 코드는 아래와 같다."
   ]
  },
  {
   "cell_type": "code",
   "execution_count": 3,
   "metadata": {},
   "outputs": [],
   "source": [
    "# recommend.py 코드 전문\n",
    "\n",
    "import os\n",
    "import io\n",
    "import sys\n",
    "import urllib.request\n",
    "import requests\n",
    "import re\n",
    "import webbrowser as wb\n",
    "\n",
    "class Recommend:\n",
    "    def showUrl(self):\n",
    "        newSearchWord = self.searchWord + '사용 후기'\n",
    "        encText = urllib.parse.quote(newSearchWord)\n",
    "        url = 'https://openapi.naver.com/v1/search/blog?query=' + encText\n",
    "\n",
    "        request = urllib.request.Request(url)\n",
    "        request.add_header(\"X-Naver-Client-Id\", self.client_id)\n",
    "        request.add_header(\"X-Naver-Client-Secret\", self.client_secret)\n",
    "\n",
    "        response = urllib.request.urlopen(request)\n",
    "        responseCode = response.getcode()\n",
    "\n",
    "        titleList = []\n",
    "        linkList = []\n",
    "        num = 1\n",
    "\n",
    "        if responseCode == 200:\n",
    "            responseBodys = response.readlines()\n",
    "\n",
    "            for responseBody in responseBodys:\n",
    "                if responseBody.startswith(b'\"title\"'): # title만 추출\n",
    "                    titleResult = responseBody.decode('utf-8') # 자연어 변환\n",
    "                    newTitleResult = str(titleResult) # byte - string 변환\n",
    "\n",
    "                    titleResultResponse = re.sub('<.+?>', '', newTitleResult, 0, re.I|re.S)\n",
    "                    titleResultResponse = re.sub('\"title\":', '', titleResultResponse, 0, re.I|re.S)\n",
    "                    titleResultResponse = re.sub(',', '', titleResultResponse)\n",
    "                    titleResultResponse = re.sub('\"', '', titleResultResponse)\n",
    "                    print(titleResultResponse, '------------ ', str(num), sep=\" \")\n",
    "                    num += 1\n",
    "                    titleList.append(titleResultResponse)\n",
    "\n",
    "                elif responseBody.startswith(b'\"link\"'): # link만 추출\n",
    "                    linkResult = responseBody.decode('utf-8') # 자연어 변환\n",
    "                    newLinkResult = str(linkResult) # byte - string 변환\n",
    "\n",
    "                    linkResultResponse = re.sub('<.+?>', '', newLinkResult, 0, re.I|re.S)\n",
    "                    linkResultResponse = re.sub('\"link\":', '', linkResultResponse, 0, re.I|re.S)\n",
    "                    linkResultResponse = re.sub(',', '', linkResultResponse)\n",
    "                    linkResultResponse = re.sub('\"', '', linkResultResponse)\n",
    "                    linkResultResponse = re.sub('\\\\\\\\', '', linkResultResponse)\n",
    "                    linkResultResponse = linkResultResponse.strip()\n",
    "                    linkList.append(linkResultResponse)\n",
    "                else:\n",
    "                    continue\n",
    "        else:\n",
    "            print('Error Code:' + responseCode) # Error Code Print\n",
    "\n",
    "        usersChoice = int(input('원하는 블로그 후기의 번호를 입력하세요: ')) # user의 선택\n",
    "        wb.open(linkList[usersChoice - 1]) # Blog Open\n",
    "\n",
    "        usersChoice2 = input('다른 후기도 보시겠습니까? (y/n) ') # 선택지\n",
    "\n",
    "        while usersChoice2 != 'n':\n",
    "            if usersChoice2 == 'y': # 다른 후기도 본다면\n",
    "                usersChoice = int(input('원하는 블로그 후기의 번호를 입력하세요: ')) # 위 내용 반복\n",
    "                wb.open(linkList[usersChoice - 1])\n",
    "                usersChoice2 = input('다른 후기도 보시겠습니까? (y/n) ') # usersChoice2 초기화\n",
    "            elif usersChoice2 != 'y' and usersChoice2 != 'n': # 다른 문자를 입력했을 경우\n",
    "                print('y / n 중에 골라 주십시오.')\n",
    "                usersChoice2 = input('다른 후기도 보시겠습니까? (y/n) ')\n",
    "        print('검색을 종료합니다.') # if usersChoice2 == 'n'"
   ]
  },
  {
   "cell_type": "markdown",
   "metadata": {},
   "source": [
    "2-2. shopping.py : recommend.py에서의 블로그 후기 탐색을 마친 후의 과정에 대해 구현했다. 이것 또한 Shopping이라는 class로 묶었으며, class 내부에 goToShopSite 함수를 추가하였다. 먼저, Naver Shopping 사이트의 url에서 검색어에 해당하는 부분(query 이후 부분)을 지우고 단어를 finalProduct라는 변수로 받아 추가하도록 구현하였다. (finalProduct 변수는 이후 기술할 termProject.py에 나온다.) 이에 따라 후기를 보고 온 사용자가 구체적인 제품명을 입력하면, webbrowser 모듈의 open 메소드에 따라 사이트 url에 접속하여 제품을 볼 수 있게 된다. 이 과정으로 사용자가 쇼핑 사이트를 탐색하고 프로그램에 돌아오면, 위의 경우와 마찬가지로 선택지를 제공한다. 이 선택지에서 사용자가 제품명을 다시 입력하면, 위 과정을 반복하여 url에 접속하고, Exit를 입력하면 프로그램을 종료하게 된다. 이에 대한 전반적인 코드는 아래와 같다."
   ]
  },
  {
   "cell_type": "code",
   "execution_count": 4,
   "metadata": {},
   "outputs": [],
   "source": [
    "# shopping.py 코드 전문\n",
    "\n",
    "import io\n",
    "import os\n",
    "import sys\n",
    "import webbrowser as wb\n",
    "\n",
    "class Shopping:\n",
    "    def goToShopSite(self):\n",
    "        url = 'https://search.shopping.naver.com/search/all?query=' + self.finalProduct\n",
    "\n",
    "        wb.open(url)\n",
    "\n",
    "        userChoice = input('다른 결과가 필요하시다면 제품명을 입력해 주세요 (제품명 or Exit): ')\n",
    "\n",
    "        while userChoice != 'Exit':\n",
    "            url = 'https://search.shopping.naver.com/search/all?query=' + userChoice\n",
    "            wb.open(url)\n",
    "            userChoice = input('다른 결과가 필요하시다면 제품명을 입력해 주세요 (제품명 or Exit): ')"
   ]
  },
  {
   "cell_type": "markdown",
   "metadata": {},
   "source": [
    "2-3. termProject.py : 앞서 구현한 recommend.py와 shopping.py를 module 형태로 import하고, 초기값 설정과 내부 함수 실행 등을 하도록 구현한 프로그램이다. Recommend와 Shopping class를 각각 productRecommend, shoppingSite 객체로 선언하고, 내부 함수를 호출하면서 프로그램을 구동하게 된다. 이에 대한 코드는 아래와 같다."
   ]
  },
  {
   "cell_type": "code",
   "execution_count": 11,
   "metadata": {},
   "outputs": [
    {
     "name": "stdout",
     "output_type": "stream",
     "text": [
      "----------원활한 쇼핑을 위한 제품 추천 서비스----------\n",
      "안녕하세요. 본 프로그램은 제품의 후기를 통해 원하는 제품을 찾는 프로그램입니다.\n",
      "원하시는 제품의 키워드를 입력해주세요(ex. 게이밍 마우스): 게이밍 마우스\n",
      " 다얼유 EM901 무선 게이밍 마우스 사용 후기\n",
      " ------------  1\n",
      " 게이밍 마우스 벤큐 조위 EC2 사용해 본 후기!\n",
      " ------------  2\n",
      " 로지텍 G102 PRODIGY 게이밍 마우스 사용후기\n",
      " ------------  3\n",
      " 로지텍 G304 무선 게이밍 마우스 사용후기 (G HUB 드라이버... \n",
      " ------------  4\n",
      " COX 험백 유무선 3335 RGB 무선게이밍마우스 후기\n",
      " ------------  5\n",
      " 게이밍 마우스 추천 이유는? 로지텍 G604 사용 후기\n",
      " ------------  6\n",
      " 블루투스와 무선 다 되는 로지텍 G604 게이밍 마우스 후기\n",
      " ------------  7\n",
      " 가성비 좋은 게이밍마우스 GM003 사용 후기\n",
      " ------------  8\n",
      " 레이저 데스에더 에센셜 게이밍 마우스 실 사용 후기\n",
      " ------------  9\n",
      " 무선 게이밍 마우스... SE(DARK CORE RGB PRO SE) 리얼 후기\n",
      " ------------  10\n",
      "원하는 블로그 후기의 번호를 입력하세요: 1\n",
      "다른 후기도 보시겠습니까? (y/n) n\n",
      "검색을 종료합니다.\n",
      "쇼핑 사이트에서 찾고자 하는 제품의 제품명을 위 제목에서 복사-붙여넣기 해주세요: 게이밍마우스 GM003\n",
      "다른 결과가 필요하시다면 제품명을 입력해 주세요 (제품명 or Exit): Exit\n",
      "즐거운 쇼핑 되십시오. 프로그램을 종료합니다.\n"
     ]
    }
   ],
   "source": [
    "# termProject.py 코드 전문\n",
    "\n",
    "import recommend\n",
    "import shopping\n",
    "\n",
    "productRecommend = recommend.Recommend()\n",
    "productRecommend.client_id = \"MxAYTCOsbligdEvHngib\"\n",
    "productRecommend.client_secret = \"3iRpVzgyLb\"\n",
    "\n",
    "print('----------원활한 쇼핑을 위한 제품 추천 서비스----------')\n",
    "print('안녕하세요. 본 프로그램은 제품의 후기를 통해 원하는 제품을 찾는 프로그램입니다.')\n",
    "productRecommend.searchWord = input('원하시는 제품의 키워드를 입력해주세요(ex. 게이밍 마우스): ')\n",
    "\n",
    "productRecommend.showUrl()\n",
    "\n",
    "shoppingSite = shopping.Shopping()\n",
    "\n",
    "shoppingSite.finalProduct = input('쇼핑 사이트에서 찾고자 하는 제품의 제품명을 위 제목에서 복사-붙여넣기 해주세요: ')\n",
    "\n",
    "shoppingSite.goToShopSite()\n",
    "\n",
    "print('즐거운 쇼핑 되십시오. 프로그램을 종료합니다.')"
   ]
  },
  {
   "cell_type": "markdown",
   "metadata": {},
   "source": [
    "5. 결론 : 프로그램 작성 결과, 본래 목적이었던 <strong>블로그 후기 탐색 > 구체적인 제품 확인 > 쇼핑</strong>의 알고리즘이 문제 없이 실행된 것으로 보인다. 그러나 몇몇 부분에서 본래 목적과 달라지면서 사용자에게 약간의 불편함을 줄 여지가 생기게 되었다. 첫째, 구현한 프로그램 전체를 GUI로 구현했다면 프로그램의 가독성과 편의성 측면에서 더욱 뛰어난 성과를 얻었을 것이다. 둘째, 후기를 통해 구체적인 제품을 확인한 사용자가 쇼핑 사이트로 접속하는 과정에서 약간의 불편함이 생길 수 있다. 사용자가 직접 제품명을 입력하거나 복사-붙여넣기 하는 대신, Button 등의 형식으로 접속할 수 있도록 구현했다면 편의성이 증대되었을 것이다. 이러한 부분을 제외하면 처음에 세웠던 목표와 부합하는 프로그램이 완성되었다고 생각한다. 이를 통해 사용자는 기존의 쇼핑 방식에서 느꼈던 불편함(사고자 하는 제품이 명확하지 않은 경우 일일이 제품을 찾아보면서 비교해야 하는 점)을 줄이고, 다양한 후기를 먼저 접하면서 많은 제품에 접근하고, 비교하면서 자신이 원하는 제품으로 기준을 좁혀나갈 수 있다는 장점이 적용될 것이라 생각한다."
   ]
  },
  {
   "cell_type": "markdown",
   "metadata": {},
   "source": [
    "6. 오픈소스 활용 출처<br>6-1. Naver Shopping API : https://developers.naver.com/docs/search/blog/ 해당 사이트에서 사용자 등록 후 사용. recommend.py의 request, response 구현 부분이 오픈소스를 활용한 부분이며, 해당 사이트에 제시된 개발 가이드를 참고하여 코드 작성함. 이를 통한 데이터 획득을 제외한 부분은 전부 직접 구현하였음."
   ]
  },
  {
   "cell_type": "markdown",
   "metadata": {},
   "source": [
    "7. 참고문헌<br>7-1. 오픈소스 관련 : https://developers.naver.com/docs/search/blog/ (Naver Blog API)<br>7-2. 파이썬 문법, 구현 관련 : 2020-1H 웹파이선프로그래밍 강의노트, 영상 등 참고. + 정규표현식 관련 부분 : 박응용. 점프 투 파이썬. 이지스퍼블리싱. p.298 - p.326 + https://docs.python.org/3/ (Python Documentation)<br>7-3. Naver Shopping 사이트 연결 부분 : https://shopping.naver.com/ (Naver Shopping)"
   ]
  },
  {
   "cell_type": "markdown",
   "metadata": {},
   "source": [
    "8. 별첨<br>프로젝트 개발에 관련된 모든 파일 (보고서, 코드, 업데이트 내용 등) 개인 Github 페이지 (https://github.com/tjswodud/TermProject_2020-1H_WebPython)<br>(py파일 실행 오류를 대비한)exe 파일 (https://github.com/tjswodud/TermProject_execution)"
   ]
  }
 ],
 "metadata": {
  "kernelspec": {
   "display_name": "Python 3",
   "language": "python",
   "name": "python3"
  },
  "language_info": {
   "codemirror_mode": {
    "name": "ipython",
    "version": 3
   },
   "file_extension": ".py",
   "mimetype": "text/x-python",
   "name": "python",
   "nbconvert_exporter": "python",
   "pygments_lexer": "ipython3",
   "version": "3.7.4"
  }
 },
 "nbformat": 4,
 "nbformat_minor": 2
}
